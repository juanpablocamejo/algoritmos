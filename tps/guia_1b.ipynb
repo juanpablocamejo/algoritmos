{
 "cells": [
  {
   "cell_type": "markdown",
   "metadata": {},
   "source": [
    "# Preparación"
   ]
  },
  {
   "cell_type": "code",
   "execution_count": 1,
   "metadata": {},
   "outputs": [],
   "source": [
    "import random\n",
    "import timeit\n",
    "import matplotlib.pyplot as plt\n",
    "import numpy as np"
   ]
  },
  {
   "cell_type": "code",
   "execution_count": 2,
   "metadata": {},
   "outputs": [],
   "source": [
    "def bubble_sort(arr):\n",
    "    def swap(i, j):\n",
    "        arr[i], arr[j] = arr[j], arr[i]\n",
    "\n",
    "    n = len(arr)\n",
    "    swapped = True\n",
    "    \n",
    "    x = -1\n",
    "    while swapped:\n",
    "        swapped = False\n",
    "        x = x + 1\n",
    "        for i in range(1, n-x):\n",
    "            if arr[i - 1] > arr[i]:\n",
    "                swap(i - 1, i)\n",
    "                swapped = True\n",
    "                    \n",
    "    return arr"
   ]
  },
  {
   "cell_type": "code",
   "execution_count": 3,
   "metadata": {},
   "outputs": [],
   "source": [
    "def selection_sort(arr):        \n",
    "    for i in range(len(arr)):\n",
    "        minimum = i\n",
    "        \n",
    "        for j in range(i + 1, len(arr)):\n",
    "            # Select the smallest value\n",
    "            if arr[j] < arr[minimum]:\n",
    "                minimum = j\n",
    "\n",
    "        # Place it at the front of the \n",
    "        # sorted end of the array\n",
    "        arr[minimum], arr[i] = arr[i], arr[minimum]\n",
    "            \n",
    "    return arr"
   ]
  },
  {
   "cell_type": "code",
   "execution_count": 4,
   "metadata": {},
   "outputs": [],
   "source": [
    "def insertion_sort(arr):\n",
    "        \n",
    "    for i in range(len(arr)):\n",
    "        cursor = arr[i]\n",
    "        pos = i\n",
    "        \n",
    "        while pos > 0 and arr[pos - 1] > cursor:\n",
    "            # Swap the number down the list\n",
    "            arr[pos] = arr[pos - 1]\n",
    "            pos = pos - 1\n",
    "        # Break and do the final swap\n",
    "        arr[pos] = cursor\n",
    "\n",
    "    return arr"
   ]
  },
  {
   "cell_type": "code",
   "execution_count": 5,
   "metadata": {},
   "outputs": [],
   "source": [
    "def merge_sort(arr):\n",
    "    # The last array split\n",
    "    if len(arr) <= 1:\n",
    "        return arr\n",
    "    mid = len(arr) // 2\n",
    "    # Perform merge_sort recursively on both halves\n",
    "    left, right = merge_sort(arr[:mid]), merge_sort(arr[mid:])\n",
    "\n",
    "    # Merge each side together\n",
    "    return merge(left, right, arr.copy())\n",
    "\n",
    "\n",
    "def merge(left, right, merged):\n",
    "\n",
    "    left_cursor, right_cursor = 0, 0\n",
    "    while left_cursor < len(left) and right_cursor < len(right):\n",
    "      \n",
    "        # Sort each one and place into the result\n",
    "        if left[left_cursor] <= right[right_cursor]:\n",
    "            merged[left_cursor+right_cursor]=left[left_cursor]\n",
    "            left_cursor += 1\n",
    "        else:\n",
    "            merged[left_cursor + right_cursor] = right[right_cursor]\n",
    "            right_cursor += 1\n",
    "            \n",
    "    for left_cursor in range(left_cursor, len(left)):\n",
    "        merged[left_cursor + right_cursor] = left[left_cursor]\n",
    "        \n",
    "    for right_cursor in range(right_cursor, len(right)):\n",
    "        merged[left_cursor + right_cursor] = right[right_cursor]\n",
    "\n",
    "    return merged"
   ]
  },
  {
   "cell_type": "code",
   "execution_count": 6,
   "metadata": {},
   "outputs": [],
   "source": [
    "def partition(array, begin, end):\n",
    "    pivot_idx = begin\n",
    "    for i in range(begin+1, end+1):\n",
    "        if array[i] <= array[begin]:\n",
    "            pivot_idx += 1\n",
    "            array[i], array[pivot_idx] = array[pivot_idx], array[i]\n",
    "    array[pivot_idx], array[begin] = array[begin], array[pivot_idx]\n",
    "    return pivot_idx\n",
    "\n",
    "def quick_sort_recursion(array, begin, end):\n",
    "    if begin >= end:\n",
    "        return\n",
    "    pivot_idx = partition(array, begin, end)\n",
    "    quick_sort_recursion(array, begin, pivot_idx-1)\n",
    "    quick_sort_recursion(array, pivot_idx+1, end)\n",
    "    return array\n",
    "\n",
    "def quick_sort(array, begin=0, end=None):\n",
    "    if end is None:\n",
    "        end = len(array) - 1\n",
    "    \n",
    "    return quick_sort_recursion(array, begin, end)"
   ]
  },
  {
   "cell_type": "code",
   "execution_count": 7,
   "metadata": {},
   "outputs": [
    {
     "data": {
      "text/plain": [
       "True"
      ]
     },
     "execution_count": 7,
     "metadata": {},
     "output_type": "execute_result"
    }
   ],
   "source": [
    "min = 1\n",
    "max = 1000000\n",
    "n = 100\n",
    "v = random.sample(range(min, max), n)\n",
    "quick_sort(v) == merge_sort(v) == insertion_sort(v) == selection_sort(v) == bubble_sort(v)"
   ]
  },
  {
   "cell_type": "markdown",
   "metadata": {},
   "source": [
    "## Timing"
   ]
  },
  {
   "cell_type": "code",
   "execution_count": 8,
   "metadata": {},
   "outputs": [],
   "source": [
    "def microbench(callable_obj, plt, label, n_max = 100, st = 1):\n",
    "    n_min = 10 \n",
    "    st = 1\n",
    "    sz = 5 # iteraciones del benchmark\n",
    "\n",
    "    t_quick_2 = list()\n",
    "    for n in range(n_min, n_max, st):\n",
    "        v = random.sample(range(1, 1000000), n)\n",
    "        t_quick_2.append(timeit.timeit(lambda: callable_obj(v), number = sz))\n",
    "\n",
    "    plt.plot(list(range(n_min, n_max)), t_quick_2, label= label + '; step = ' + str(st))\n",
    "    plt.xlabel('n')\n",
    "    plt.ylabel('costo')\n",
    "    plt.legend()\n",
    "    \n",
    "    return plt"
   ]
  },
  {
   "cell_type": "code",
   "execution_count": 9,
   "metadata": {},
   "outputs": [],
   "source": [
    "n_min = 10\n",
    "n_max = 1000\n",
    "st = 10\n",
    "sz = 10 # iteraciones del benchmark\n",
    "\n",
    "t_bubble_1 = list()\n",
    "for n in range(n_min, n_max, st):\n",
    "    v = random.sample(range(1, 1000000), n)\n",
    "    t_bubble_1.append(timeit.timeit(lambda: bubble_sort(v), number = sz))\n",
    "    \n",
    "t_sele_1 = list()\n",
    "for n in range(n_min, n_max, st):\n",
    "    v = random.sample(range(1, 1000000), n)\n",
    "    t_sele_1.append(timeit.timeit(lambda: selection_sort(v), number = sz))\n",
    "    \n",
    "t_insert_1 = list()\n",
    "for n in range(n_min, n_max, st):\n",
    "    v = random.sample(range(1, 1000000), n)\n",
    "    t_insert_1.append(timeit.timeit(lambda: insertion_sort(v), number = sz))\n",
    "    \n",
    "t_merge_1 = list()\n",
    "for n in range(n_min, n_max, st):\n",
    "    v = random.sample(range(1, 1000000), n)\n",
    "    t_merge_1.append(timeit.timeit(lambda: merge_sort(v), number = sz))\n",
    "    \n",
    "t_quick_1 = list()\n",
    "for n in range(n_min, n_max, st):\n",
    "    v = random.sample(range(1, 1000000), n)\n",
    "    t_quick_1.append(timeit.timeit(lambda: quick_sort(v), number = sz))"
   ]
  },
  {
   "cell_type": "code",
   "execution_count": 10,
   "metadata": {},
   "outputs": [
    {
     "data": {
      "text/plain": [
       "<matplotlib.legend.Legend at 0x7f70d9633898>"
      ]
     },
     "execution_count": 10,
     "metadata": {},
     "output_type": "execute_result"
    },
    {
     "data": {
      "image/png": "[encoded data removed]",
      "text/plain": [
       "<Figure size 432x288 with 1 Axes>"
      ]
     },
     "metadata": {
      "needs_background": "light"
     },
     "output_type": "display_data"
    }
   ],
   "source": [
    "# sz = 10\n",
    "eje_x = list(range(n_min, n_max, st))\n",
    "plt.plot(eje_x, t_bubble_1, label = 'bubble')\n",
    "plt.xlabel('n')\n",
    "plt.ylabel('costo')\n",
    "\n",
    "\n",
    "plt.plot(eje_x, t_sele_1, label = 'selection')\n",
    "plt.plot(eje_x, t_insert_1, label = 'insertion')\n",
    "plt.plot(eje_x, t_merge_1, label = 'merge')\n",
    "plt.plot(eje_x, t_quick_1, label = 'quicksort')\n",
    "plt.legend()"
   ]
  }
 ],
 "metadata": {
  "kernelspec": {
   "display_name": "Python 3",
   "language": "python",
   "name": "python3"
  },
  "language_info": {
   "codemirror_mode": {
    "name": "ipython",
    "version": 3
   },
   "file_extension": ".py",
   "mimetype": "text/x-python",
   "name": "python",
   "nbconvert_exporter": "python",
   "pygments_lexer": "ipython3",
   "version": "3.6.7"
  }
 },
 "nbformat": 4,
 "nbformat_minor": 2
}
