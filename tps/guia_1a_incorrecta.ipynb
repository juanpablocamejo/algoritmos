{
 "cells": [
  {
   "cell_type": "code",
   "execution_count": 1,
   "metadata": {},
   "outputs": [],
   "source": [
    "import random\n",
    "import timeit\n",
    "import matplotlib.pyplot as plt\n",
    "import numpy as np"
   ]
  },
  {
   "cell_type": "code",
   "execution_count": 2,
   "metadata": {},
   "outputs": [],
   "source": [
    "def bubble_sort(nums):\n",
    "    # We set swapped to True so the loop looks runs at least once\n",
    "    swapped = True\n",
    "    while swapped:\n",
    "        swapped = False\n",
    "        for i in range(len(nums) - 1):\n",
    "            if nums[i] > nums[i + 1]:\n",
    "                # Swap the elements\n",
    "                nums[i], nums[i + 1] = nums[i + 1], nums[i]\n",
    "                # Set the flag to True so we'll loop again\n",
    "                swapped = True"
   ]
  },
  {
   "cell_type": "code",
   "execution_count": 3,
   "metadata": {},
   "outputs": [],
   "source": [
    "def selection_sort(nums):\n",
    "    # This value of i corresponds to how many values were sorted\n",
    "    for i in range(len(nums)):\n",
    "        # We assume that the first item of the unsorted segment is the smallest\n",
    "        lowest_value_index = i\n",
    "        # This loop iterates over the unsorted items\n",
    "        for j in range(i + 1, len(nums)):\n",
    "            if nums[j] < nums[lowest_value_index]:\n",
    "                lowest_value_index = j\n",
    "        # Swap values of the lowest unsorted element with the first unsorted\n",
    "        # element\n",
    "        nums[i], nums[lowest_value_index] = nums[lowest_value_index], nums[i]"
   ]
  },
  {
   "cell_type": "code",
   "execution_count": 4,
   "metadata": {},
   "outputs": [],
   "source": [
    "def insertion_sort(nums):\n",
    "    # Start on the second element as we assume the first element is sorted\n",
    "    for i in range(1, len(nums)):\n",
    "        item_to_insert = nums[i]\n",
    "        # And keep a reference of the index of the previous element\n",
    "        j = i - 1\n",
    "        # Move all items of the sorted segment forward if they are larger than\n",
    "        # the item to insert\n",
    "        while j >= 0 and nums[j] > item_to_insert:\n",
    "            nums[j + 1] = nums[j]\n",
    "            j -= 1\n",
    "        # Insert the item\n",
    "        nums[j + 1] = item_to_insert\n"
   ]
  },
  {
   "cell_type": "code",
   "execution_count": 5,
   "metadata": {},
   "outputs": [],
   "source": [
    "def heapify(nums, heap_size, root_index):\n",
    "    # Assume the index of the largest element is the root index\n",
    "    largest = root_index\n",
    "    left_child = (2 * root_index) + 1\n",
    "    right_child = (2 * root_index) + 2\n",
    "\n",
    "    # If the left child of the root is a valid index, and the element is greater\n",
    "    # than the current largest element, then update the largest element\n",
    "    if left_child < heap_size and nums[left_child] > nums[largest]:\n",
    "        largest = left_child\n",
    "\n",
    "    # Do the same for the right child of the root\n",
    "    if right_child < heap_size and nums[right_child] > nums[largest]:\n",
    "        largest = right_child\n",
    "\n",
    "    # If the largest element is no longer the root element, swap them\n",
    "    if largest != root_index:\n",
    "        nums[root_index], nums[largest] = nums[largest], nums[root_index]\n",
    "        # Heapify the new root element to ensure it's the largest\n",
    "        heapify(nums, heap_size, largest)\n",
    "\n",
    "\n",
    "def heap_sort(nums):\n",
    "    n = len(nums)\n",
    "\n",
    "    # Create a Max Heap from the list\n",
    "    # The 2nd argument of range means we stop at the element before -1 i.e.\n",
    "    # the first element of the list.\n",
    "    # The 3rd argument of range means we iterate backwards, reducing the count\n",
    "    # of i by 1\n",
    "    for i in range(n, -1, -1):\n",
    "        heapify(nums, n, i)\n",
    "\n",
    "    # Move the root of the max heap to the end of\n",
    "    for i in range(n - 1, 0, -1):\n",
    "        nums[i], nums[0] = nums[0], nums[i]\n",
    "        heapify(nums, i, 0)"
   ]
  },
  {
   "cell_type": "code",
   "execution_count": 6,
   "metadata": {},
   "outputs": [],
   "source": [
    "def merge(left_list, right_list):\n",
    "    sorted_list = []\n",
    "    left_list_index = right_list_index = 0\n",
    "\n",
    "    # We use the list lengths often, so its handy to make variables\n",
    "    left_list_length, right_list_length = len(left_list), len(right_list)\n",
    "\n",
    "    for _ in range(left_list_length + right_list_length):\n",
    "        if left_list_index < left_list_length and right_list_index < right_list_length:\n",
    "            # We check which value from the start of each list is smaller\n",
    "            # If the item at the beginning of the left list is smaller, add it\n",
    "            # to the sorted list\n",
    "            if left_list[left_list_index] <= right_list[right_list_index]:\n",
    "                sorted_list.append(left_list[left_list_index])\n",
    "                left_list_index += 1\n",
    "            # If the item at the beginning of the right list is smaller, add it\n",
    "            # to the sorted list\n",
    "            else:\n",
    "                sorted_list.append(right_list[right_list_index])\n",
    "                right_list_index += 1\n",
    "\n",
    "        # If we've reached the end of the of the left list, add the elements\n",
    "        # from the right list\n",
    "        elif left_list_index == left_list_length:\n",
    "            sorted_list.append(right_list[right_list_index])\n",
    "            right_list_index += 1\n",
    "        # If we've reached the end of the of the right list, add the elements\n",
    "        # from the left list\n",
    "        elif right_list_index == right_list_length:\n",
    "            sorted_list.append(left_list[left_list_index])\n",
    "            left_list_index += 1\n",
    "\n",
    "    return sorted_list\n",
    "\n",
    "\n",
    "def merge_sort(nums):\n",
    "    # If the list is a single element, return it\n",
    "    if len(nums) <= 1:\n",
    "        return nums\n",
    "\n",
    "    # Use floor division to get midpoint, indices must be integers\n",
    "    mid = len(nums) // 2\n",
    "\n",
    "    # Sort and merge each half\n",
    "    left_list = merge_sort(nums[:mid])\n",
    "    right_list = merge_sort(nums[mid:])\n",
    "\n",
    "    # Merge the sorted lists into a new one\n",
    "    return merge(left_list, right_list)"
   ]
  },
  {
   "cell_type": "code",
   "execution_count": 7,
   "metadata": {},
   "outputs": [],
   "source": [
    "# There are different ways to do a Quick Sort partition, this implements the\n",
    "# Hoare partition scheme. Tony Hoare also created the Quick Sort algorithm.\n",
    "def partition(nums, low, high):\n",
    "    # We select the middle element to be the pivot. Some implementations select\n",
    "    # the first element or the last element. Sometimes the median value becomes\n",
    "    # the pivot, or a random one. There are many more strategies that can be\n",
    "    # chosen or created.\n",
    "    pivot = nums[(low + high) // 2]\n",
    "    i = low - 1\n",
    "    j = high + 1\n",
    "    while True:\n",
    "        i += 1\n",
    "        while nums[i] < pivot:\n",
    "            i += 1\n",
    "\n",
    "        j -= 1\n",
    "        while nums[j] > pivot:\n",
    "            j -= 1\n",
    "\n",
    "        if i >= j:\n",
    "            return j\n",
    "\n",
    "        # If an element at i (on the left of the pivot) is larger than the\n",
    "        # element at j (on right right of the pivot), then swap them\n",
    "        nums[i], nums[j] = nums[j], nums[i]\n",
    "\n",
    "\n",
    "def quick_sort(nums):\n",
    "    # Create a helper function that will be called recursively\n",
    "    def _quick_sort(items, low, high):\n",
    "        if low < high:\n",
    "            # This is the index after the pivot, where our lists are split\n",
    "            split_index = partition(items, low, high)\n",
    "            _quick_sort(items, low, split_index)\n",
    "            _quick_sort(items, split_index + 1, high)\n",
    "\n",
    "    _quick_sort(nums, 0, len(nums) - 1)"
   ]
  },
  {
   "cell_type": "markdown",
   "metadata": {},
   "source": [
    "## Timing"
   ]
  },
  {
   "cell_type": "code",
   "execution_count": 8,
   "metadata": {},
   "outputs": [],
   "source": [
    "def microbench(callable_obj, plt, label, n_max = 100, st = 1):\n",
    "    n_min = 10 \n",
    "    st = 1\n",
    "    sz = 5 # iteraciones del benchmark\n",
    "\n",
    "    t_quick_2 = list()\n",
    "    for n in range(n_min, n_max, st):\n",
    "        v = random.sample(range(1, 1000000), n)\n",
    "        t_quick_2.append(timeit.timeit(lambda: callable_obj(v), number = sz))\n",
    "\n",
    "    plt.plot(list(range(n_min, n_max)), t_quick_2, label= label + '; step = ' + str(st))\n",
    "    plt.xlabel('n')\n",
    "    plt.ylabel('costo')\n",
    "    plt.legend()\n",
    "    \n",
    "    return plt"
   ]
  },
  {
   "cell_type": "code",
   "execution_count": 9,
   "metadata": {},
   "outputs": [],
   "source": [
    "n_min = 10\n",
    "n_max = 1000\n",
    "st = 10\n",
    "iteraciones = 10 # iteraciones del benchmark\n",
    "\n",
    "t_bubble_1 = list()\n",
    "for n in range(n_min, n_max, st):\n",
    "    v = random.sample(range(1, 1000000), n)\n",
    "    t_bubble_1.append(timeit.timeit(lambda: bubble_sort(v), number = iteraciones))\n",
    "\n",
    "t_sele_1 = list()\n",
    "for n in range(n_min, n_max, st):\n",
    "    v = random.sample(range(1, 1000000), n)\n",
    "    t_sele_1.append(timeit.timeit(lambda: selection_sort(v), number = iteraciones))\n",
    "    \n",
    "t_insert_1 = list()\n",
    "for n in range(n_min, n_max, st):\n",
    "    v = random.sample(range(1, 1000000), n)\n",
    "    t_insert_1.append(timeit.timeit(lambda: insertion_sort(v), number = iteraciones))\n",
    "    \n",
    "t_merge_1 = list()\n",
    "for n in range(n_min, n_max, st):\n",
    "    v = random.sample(range(1, 1000000), n)\n",
    "    t_merge_1.append(timeit.timeit(lambda: merge_sort(v), number = iteraciones))\n",
    "    \n",
    "t_quick_1 = list()\n",
    "for n in range(n_min, n_max, st):\n",
    "    v = random.sample(range(1, 1000000), n)\n",
    "    t_quick_1.append(timeit.timeit(lambda: quick_sort(v), number = iteraciones))"
   ]
  },
  {
   "cell_type": "code",
   "execution_count": 10,
   "metadata": {},
   "outputs": [
    {
     "data": {
      "text/plain": [
       "<matplotlib.legend.Legend at 0x7f69e8214160>"
      ]
     },
     "execution_count": 10,
     "metadata": {},
     "output_type": "execute_result"
    },
    {
     "data": {
      "image/png": "[encoded data removed]",
      "text/plain": [
       "<Figure size 432x288 with 1 Axes>"
      ]
     },
     "metadata": {
      "needs_background": "light"
     },
     "output_type": "display_data"
    }
   ],
   "source": [
    "eje_x = list(range(n_min, n_max, st))\n",
    "plt.plot(eje_x, t_bubble_1, label = 'bubble')\n",
    "plt.xlabel('n')\n",
    "plt.ylabel('costo')\n",
    "\n",
    "\n",
    "plt.plot(eje_x, t_sele_1, label = 'selection')\n",
    "plt.plot(eje_x, t_insert_1, label = 'insertion')\n",
    "plt.plot(eje_x, t_merge_1, label = 'merge')\n",
    "plt.plot(eje_x, t_quick_1, label = 'quicksort')\n",
    "plt.legend()"
   ]
  },
  {
   "cell_type": "code",
   "execution_count": null,
   "metadata": {},
   "outputs": [],
   "source": []
  }
 ],
 "metadata": {
  "kernelspec": {
   "display_name": "Python 3",
   "language": "python",
   "name": "python3"
  },
  "language_info": {
   "codemirror_mode": {
    "name": "ipython",
    "version": 3
   },
   "file_extension": ".py",
   "mimetype": "text/x-python",
   "name": "python",
   "nbconvert_exporter": "python",
   "pygments_lexer": "ipython3",
   "version": "3.7.3"
  }
 },
 "nbformat": 4,
 "nbformat_minor": 4
}
