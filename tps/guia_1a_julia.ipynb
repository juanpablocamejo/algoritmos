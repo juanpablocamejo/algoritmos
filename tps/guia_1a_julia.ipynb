{
 "cells": [
  {
   "cell_type": "code",
   "execution_count": 1,
   "metadata": {},
   "outputs": [],
   "source": [
    "using Plots\n",
    "using Random, BenchmarkTools"
   ]
  },
  {
   "cell_type": "code",
   "execution_count": 2,
   "metadata": {},
   "outputs": [
    {
     "data": {
      "text/plain": [
       "binsertion_sort! (generic function with 1 method)"
      ]
     },
     "execution_count": 2,
     "metadata": {},
     "output_type": "execute_result"
    }
   ],
   "source": [
    "function insertion_sort!(v) \n",
    "    for i in 2:length(v)\n",
    "        item = v[i]\n",
    "        j = i - 1\n",
    "        while j >= 1 && v[j] > item\n",
    "            v[j+1] = v[j]\n",
    "            j -= 1\n",
    "        end\n",
    "        v[j+1] = item\n",
    "    end\n",
    "    return v\n",
    "end\n",
    "\n",
    "function binsertion_sort!(v) \n",
    "    @inbounds for i in 2:length(v)\n",
    "        item = v[i]\n",
    "        j = i - 1\n",
    "        while j >= 1 && v[j] > item\n",
    "            v[j+1] = v[j]\n",
    "            j -= 1\n",
    "        end\n",
    "        v[j+1] = item\n",
    "    end\n",
    "    return v\n",
    "end"
   ]
  },
  {
   "cell_type": "code",
   "execution_count": 3,
   "metadata": {},
   "outputs": [
    {
     "data": {
      "text/plain": [
       "b1 (generic function with 1 method)"
      ]
     },
     "execution_count": 3,
     "metadata": {},
     "output_type": "execute_result"
    }
   ],
   "source": [
    "function b1()\n",
    "    n = 1000000\n",
    "    \n",
    "    println(\"Mío:\")\n",
    "    v = rand(1:n, n)\n",
    "    println(size(v))\n",
    "    @btime insertion_sort!(v)\n",
    "    \n",
    "    println(\"Mío sin bounds:\")\n",
    "    v = rand(1:n, n)\n",
    "    @btime binsertion_sort!(v)\n",
    "    \n",
    "    println(\"Insertion:\")\n",
    "    v = rand(1:n, n)\n",
    "    @btime sort!(v, alg = InsertionSort)\n",
    "    \n",
    "    println(\"General:\")\n",
    "    v = rand(1:n, n)\n",
    "    @btime sort!(v)\n",
    "    \n",
    "    return\n",
    "end"
   ]
  },
  {
   "cell_type": "code",
   "execution_count": 4,
   "metadata": {},
   "outputs": [
    {
     "name": "stdout",
     "output_type": "stream",
     "text": [
      "Mío:\n",
      "(10000,)\n",
      "  14.140 μs (0 allocations: 0 bytes)\n",
      "Mío sin bounds:\n",
      "  8.125 μs (0 allocations: 0 bytes)\n",
      "Insertion:\n",
      "  11.772 μs (0 allocations: 0 bytes)\n",
      "General:\n",
      "  56.120 μs (0 allocations: 0 bytes)\n"
     ]
    },
    {
     "data": {
      "text/plain": [
       "10000-element Array{Int64,1}:\n",
       "    1\n",
       "    1\n",
       "    2\n",
       "    2\n",
       "    3\n",
       "    4\n",
       "    9\n",
       "   12\n",
       "   12\n",
       "   14\n",
       "   14\n",
       "   16\n",
       "   16\n",
       "    ⋮\n",
       " 9984\n",
       " 9984\n",
       " 9985\n",
       " 9986\n",
       " 9986\n",
       " 9986\n",
       " 9990\n",
       " 9992\n",
       " 9994\n",
       " 9994\n",
       " 9997\n",
       " 9998"
      ]
     },
     "execution_count": 4,
     "metadata": {},
     "output_type": "execute_result"
    }
   ],
   "source": [
    "    n = 10000\n",
    "    \n",
    "    println(\"Mío:\")\n",
    "    v = rand(1:n, n)\n",
    "    println(size(v))\n",
    "    @btime insertion_sort!(v)\n",
    "    \n",
    "    println(\"Mío sin bounds:\")\n",
    "    v = rand(1:n, n)\n",
    "    @btime binsertion_sort!(v)\n",
    "    \n",
    "    println(\"Insertion:\")\n",
    "    v = rand(1:n, n)\n",
    "    @btime sort!(v, alg = InsertionSort)\n",
    "    \n",
    "    println(\"General:\")\n",
    "    v = rand(1:n, n)\n",
    "    @btime sort!(v)\n"
   ]
  },
  {
   "cell_type": "code",
   "execution_count": 5,
   "metadata": {},
   "outputs": [
    {
     "name": "stdout",
     "output_type": "stream",
     "text": [
      "Mío:\n",
      "(1000000,)\n",
      "  12.760 μs (0 allocations: 0 bytes)\n",
      "Mío sin bounds:\n",
      "  7.038 μs (0 allocations: 0 bytes)\n",
      "Insertion:\n",
      "  11.429 μs (0 allocations: 0 bytes)\n",
      "General:\n",
      "  56.253 μs (0 allocations: 0 bytes)\n"
     ]
    }
   ],
   "source": [
    "b1()"
   ]
  },
  {
   "cell_type": "code",
   "execution_count": null,
   "metadata": {},
   "outputs": [],
   "source": []
  }
 ],
 "metadata": {
  "kernelspec": {
   "display_name": "Julia 1.1.0",
   "language": "julia",
   "name": "julia-1.1"
  },
  "language_info": {
   "file_extension": ".jl",
   "mimetype": "application/julia",
   "name": "julia",
   "version": "1.1.0"
  }
 },
 "nbformat": 4,
 "nbformat_minor": 2
}
